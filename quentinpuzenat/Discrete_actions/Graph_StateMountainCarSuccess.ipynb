{
  "nbformat": 4,
  "nbformat_minor": 0,
  "metadata": {
    "colab": {
      "name": "Graph_StateMountainCarSuccess.ipynb",
      "provenance": []
    },
    "kernelspec": {
      "name": "python3",
      "display_name": "Python 3"
    },
    "accelerator": "GPU"
  },
  "cells": [
    {
      "cell_type": "markdown",
      "metadata": {
        "id": "K-BR1pbYnffU"
      },
      "source": [
        "## Installation"
      ]
    },
    {
      "cell_type": "code",
      "metadata": {
        "id": "49vkKguUnVT7"
      },
      "source": [
        "#@title Install necessary dependencies.\n",
        "\n",
        "!sudo apt-get install -y xvfb ffmpeg\n",
        "!pip install 'gym==0.10.11'\n",
        "!pip install imageio\n",
        "!pip install PILLOW\n",
        "!pip install 'pyglet==1.3.2'\n",
        "!pip install pyvirtualdisplay\n",
        "\n",
        "!pip install dm-acme\n",
        "!pip install dm-acme[reverb]\n",
        "!pip install dm-acme[tf]\n",
        "!pip install dm-acme[envs]\n",
        "\n",
        "from IPython.display import clear_output\n",
        "clear_output()"
      ],
      "execution_count": 1,
      "outputs": []
    },
    {
      "cell_type": "code",
      "metadata": {
        "id": "JVTQCTb4nevt"
      },
      "source": [
        "#@title Import modules.\n",
        "#python3\n",
        "\n",
        "%%capture\n",
        "import copy\n",
        "import pyvirtualdisplay\n",
        "import imageio \n",
        "import base64\n",
        "import IPython\n",
        "\n",
        "\n",
        "from acme import environment_loop\n",
        "from acme.tf import networks\n",
        "from acme.adders import reverb as adders\n",
        "from acme.agents.tf import actors as actors\n",
        "from acme.datasets import reverb as datasets\n",
        "from acme.wrappers import gym_wrapper\n",
        "from acme import specs\n",
        "from acme import wrappers\n",
        "from acme.agents.tf import d4pg\n",
        "from acme.agents import agent\n",
        "from acme.tf import utils as tf2_utils\n",
        "from acme.utils import loggers\n",
        "\n",
        "import gym \n",
        "import dm_env\n",
        "import matplotlib.pyplot as plt\n",
        "import numpy as np\n",
        "import reverb\n",
        "import sonnet as snt\n",
        "import tensorflow as tf\n",
        "\n",
        "# Import dm_control if it exists.\n",
        "try:\n",
        "  from dm_control import suite\n",
        "except (ModuleNotFoundError, OSError):\n",
        "  pass\n",
        "\n",
        "# Set up a virtual display for rendering OpenAI gym environments.\n",
        "display = pyvirtualdisplay.Display(visible=0, size=(1400, 900)).start()"
      ],
      "execution_count": 2,
      "outputs": []
    },
    {
      "cell_type": "markdown",
      "metadata": {
        "id": "RS5GfnyIn0KZ"
      },
      "source": [
        "## Environnement"
      ]
    },
    {
      "cell_type": "code",
      "metadata": {
        "colab": {
          "base_uri": "https://localhost:8080/"
        },
        "id": "Bmw1y49antfo",
        "outputId": "91ce959d-45c5-4baf-8c6a-23f30ebb6cd3"
      },
      "source": [
        "environment = gym_wrapper.GymWrapper(gym.make('MountainCarContinuous-v0'))\n",
        "environment = wrappers.SinglePrecisionWrapper(environment)\n",
        "def render(env):\n",
        "  return env.environment.render(mode='rgb_array')\n",
        "\n",
        "# Show the frame.\n",
        "frame = render(environment)\n",
        "plt.imshow(frame)\n",
        "plt.axis('on')"
      ],
      "execution_count": 3,
      "outputs": [
        {
          "output_type": "execute_result",
          "data": {
            "text/plain": [
              "(-0.5, 599.5, 399.5, -0.5)"
            ]
          },
          "metadata": {
            "tags": []
          },
          "execution_count": 3
        }
      ]
    },
    {
      "cell_type": "markdown",
      "metadata": {
        "id": "btYIt7zepSRc"
      },
      "source": [
        "### Environement specs"
      ]
    },
    {
      "cell_type": "code",
      "metadata": {
        "colab": {
          "base_uri": "https://localhost:8080/"
        },
        "id": "Gt4r8htioAmK",
        "outputId": "8a360616-52f2-426e-80f4-96ddf43bc23a"
      },
      "source": [
        "environment_spec = specs.make_environment_spec(environment)\n",
        "\n",
        "print('actions:\\n', environment_spec.actions, '\\n')\n",
        "print('observations:\\n', environment_spec.observations, '\\n')\n",
        "print('rewards:\\n', environment_spec.rewards, '\\n')\n",
        "print('discounts:\\n', environment_spec.discounts, '\\n')"
      ],
      "execution_count": 4,
      "outputs": [
        {
          "output_type": "stream",
          "text": [
            "actions:\n",
            " BoundedArray(shape=(1,), dtype=dtype('float32'), name='action', minimum=[-1.], maximum=[1.]) \n",
            "\n",
            "observations:\n",
            " BoundedArray(shape=(2,), dtype=dtype('float32'), name='observation', minimum=[-1.2  -0.07], maximum=[0.6  0.07]) \n",
            "\n",
            "rewards:\n",
            " Array(shape=(), dtype=dtype('float32'), name='reward') \n",
            "\n",
            "discounts:\n",
            " BoundedArray(shape=(), dtype=dtype('float32'), name='discount', minimum=0.0, maximum=1.0) \n",
            "\n"
          ],
          "name": "stdout"
        }
      ]
    },
    {
      "cell_type": "markdown",
      "metadata": {
        "id": "tfoVqTKGPUqI"
      },
      "source": [
        "# Agent choice"
      ]
    },
    {
      "cell_type": "code",
      "metadata": {
        "id": "KQyIjOK2IHRM"
      },
      "source": [
        "#@title Build agent networks\n",
        "\n",
        "\n",
        "# Get total number of action dimensions from action spec.\n",
        "num_dimensions = np.prod(environment_spec.actions.shape, dtype=int)\n",
        "\n",
        "# Create the shared observation network; here simply a state-less operation.\n",
        "observation_network = tf2_utils.batch_concat\n",
        "\n",
        "# Create the deterministic policy network.\n",
        "policy_network = snt.Sequential([\n",
        "    networks.LayerNormMLP((256, 256, 256), activate_final=True),\n",
        "    networks.NearZeroInitializedLinear(num_dimensions),\n",
        "    networks.TanhToSpec(environment_spec.actions),\n",
        "])\n",
        "\n",
        "# Create the distributional critic network.\n",
        "critic_network = snt.Sequential([\n",
        "    # The multiplexer concatenates the observations/actions.\n",
        "    networks.CriticMultiplexer(),\n",
        "    networks.LayerNormMLP((512, 512, 256), activate_final=True),\n",
        "    networks.DiscreteValuedHead(vmin=-150., vmax=150., num_atoms=51),\n",
        "])\n"
      ],
      "execution_count": 5,
      "outputs": []
    },
    {
      "cell_type": "code",
      "metadata": {
        "id": "xeQ_shZN2d6g",
        "colab": {
          "base_uri": "https://localhost:8080/"
        },
        "outputId": "fc9a5be4-9d43-4f02-942a-580f1a88aa7c"
      },
      "source": [
        "# Create a logger for the agent and environment loop.\n",
        "agent_logger = loggers.TerminalLogger(label='agent', time_delta=10.)\n",
        "env_loop_logger = loggers.TerminalLogger(label='env_loop', time_delta=10.)\n",
        "\n",
        "# Create the D4PG agent.\n",
        "agent = d4pg.D4PG(\n",
        "    environment_spec=environment_spec,\n",
        "    policy_network=policy_network,\n",
        "    critic_network=critic_network,\n",
        "    observation_network=observation_network,\n",
        "    sigma=1.0,\n",
        "    logger=agent_logger,\n",
        "    checkpoint=False\n",
        ")\n",
        "\n",
        "#surcharger methode selection action agent\n",
        "\n",
        "def actionDecorator(og_function):\n",
        "  def nestedFunction(*args, **kwargs):\n",
        "    results = og_function(*args, **kwargs)\n",
        "    x = [-0.75, 0, 0.75]\n",
        "    proximity = 10\n",
        "    index = 0\n",
        "    for i in range(len(x)):\n",
        "      if np.abs(results[0] - x[i]) < proximity:\n",
        "        proximity = np.abs(results[0] - x[i])\n",
        "        index = i \n",
        "    results = np.abs(np.round(results)) + x[index]\n",
        "    #print(results)\n",
        "    return results\n",
        "  return nestedFunction\n",
        "\n",
        "agent.select_action = actionDecorator(agent.select_action)\n",
        "\n",
        "#2eme possibilitée\n",
        "#environment_loop.EnvironmentLoop = ma_function\n",
        "\n"
      ],
      "execution_count": 6,
      "outputs": [
        {
          "output_type": "stream",
          "text": [
            "WARNING: Entity <function _yield_value at 0x7f03b4e60378> appears to be a generator function. It will not be converted by AutoGraph.\n"
          ],
          "name": "stdout"
        }
      ]
    },
    {
      "cell_type": "markdown",
      "metadata": {
        "id": "YXdJBOG8kK0f"
      },
      "source": [
        "### code acme: EnvironmentLoop Class"
      ]
    },
    {
      "cell_type": "code",
      "metadata": {
        "id": "QJxPQa_Win7A"
      },
      "source": [
        "\"\"\"A simple agent-environment training loop.\"\"\"\n",
        "\n",
        "import operator\n",
        "import time\n",
        "from typing import Optional\n",
        "\n",
        "from acme import core\n",
        "# Internal imports.\n",
        "from acme.utils import counting\n",
        "from acme.utils import loggers\n",
        "\n",
        "import dm_env\n",
        "from dm_env import specs\n",
        "import numpy as np\n",
        "import tree\n",
        "\n",
        "\n",
        "class EnvironmentLoop(core.Worker):\n",
        "  \"\"\"A simple RL environment loop.\n",
        "    See acme doc for more infos.\n",
        "  \"\"\"\n",
        "\n",
        "  def __init__(\n",
        "      self,\n",
        "      environment: dm_env.Environment,\n",
        "      actor: core.Actor,\n",
        "      counter: counting.Counter = None,\n",
        "      logger: loggers.Logger = None,\n",
        "      should_update: bool = True,\n",
        "      label: str = 'environment_loop',\n",
        "  ):\n",
        "    # Internalize agent and environment.\n",
        "    self._environment = environment\n",
        "    self._actor = actor\n",
        "    self._counter = counter or counting.Counter()\n",
        "    self._logger = logger or loggers.make_default_logger(label)\n",
        "    self._should_update = should_update\n",
        "\n",
        "  def run_episode(self) -> loggers.LoggingData:\n",
        "    \"\"\"Run one episode.\n",
        "    Each episode is a loop which interacts first with the environment to get an\n",
        "    observation and then give that observation to the agent in order to retrieve\n",
        "    an action.\n",
        "    Returns:\n",
        "      An instance of `loggers.LoggingData`.\n",
        "    \"\"\"\n",
        "    # Reset any counts and start the environment.\n",
        "    start_time = time.time()\n",
        "    episode_steps = 0\n",
        "\n",
        "    # For evaluation, this keeps track of the total undiscounted reward\n",
        "    # accumulated during the episode.\n",
        "    episode_return = tree.map_structure(_generate_zeros_from_spec,\n",
        "                                        self._environment.reward_spec())\n",
        "    timestep = self._environment.reset()\n",
        "\n",
        "    # Make the first observation.\n",
        "    self._actor.observe_first(timestep)\n",
        "\n",
        "    # Run an episode.\n",
        "    while not timestep.last():\n",
        "      # Generate an action from the agent's policy and step the environment.\n",
        "      action = self._actor.select_action(timestep.observation)\n",
        "      timestep = self._environment.step(action)\n",
        "\n",
        "      # Have the agent observe the timestep and let the actor update itself.\n",
        "      self._actor.observe(action, next_timestep=timestep)\n",
        "      if self._should_update:\n",
        "        self._actor.update()\n",
        "\n",
        "      # Book-keeping.\n",
        "      episode_steps += 1\n",
        "\n",
        "      # Equivalent to: episode_return += timestep.reward\n",
        "      tree.map_structure(operator.iadd, episode_return, timestep.reward)\n",
        "\n",
        "    # Record counts.\n",
        "    counts = self._counter.increment(episodes=1, steps=episode_steps)\n",
        "\n",
        "    # Collect the results and combine with counts.\n",
        "    steps_per_second = episode_steps / (time.time() - start_time)\n",
        "    result = {\n",
        "        'episode_length': episode_steps,\n",
        "        'episode_return': episode_return,\n",
        "        'steps_per_second': steps_per_second,\n",
        "    }\n",
        "    result.update(counts)\n",
        "    return result\n",
        "\n",
        "  def run(self,\n",
        "          num_episodes: Optional[int] = None,\n",
        "          num_steps: Optional[int] = None):\n",
        "    \"\"\"Perform the run loop.\n",
        "    Run the environment loop either for `num_episodes` episodes or for at\n",
        "    least `num_steps` steps (the last episode is always run until completion,\n",
        "    so the total number of steps may be slightly more than `num_steps`).\n",
        "    At least one of these two arguments has to be None.\n",
        "    Upon termination of an episode a new episode will be started. If the number\n",
        "    of episodes and the number of steps are not given then this will interact\n",
        "    with the environment infinitely.\n",
        "    Args:\n",
        "      num_episodes: number of episodes to run the loop for.\n",
        "      num_steps: minimal number of steps to run the loop for.\n",
        "    Raises:\n",
        "      ValueError: If both 'num_episodes' and 'num_steps' are not None.\n",
        "    \"\"\"\n",
        "\n",
        "    if not (num_episodes is None or num_steps is None):\n",
        "      raise ValueError('Either \"num_episodes\" or \"num_steps\" should be None.')\n",
        "\n",
        "    def should_terminate(episode_count: int, step_count: int) -> bool:\n",
        "      return ((num_episodes is not None and episode_count >= num_episodes) or\n",
        "              (num_steps is not None and step_count >= num_steps))\n",
        "\n",
        "    episode_count, step_count = 0, 0\n",
        "    while not should_terminate(episode_count, step_count):\n",
        "      result = self.run_episode()\n",
        "      episode_count += 1\n",
        "      step_count += result['episode_length']\n",
        "      # Log the given results.\n",
        "      self._logger.write(result)\n",
        "\n",
        "\n",
        "def _generate_zeros_from_spec(spec: specs.Array) -> np.ndarray:\n",
        "  return np.zeros(spec.shape, spec.dtype)\n"
      ],
      "execution_count": 7,
      "outputs": []
    },
    {
      "cell_type": "markdown",
      "metadata": {
        "id": "B8mQXiDxkRfy"
      },
      "source": [
        "# Loop to output a graph"
      ]
    },
    {
      "cell_type": "code",
      "metadata": {
        "colab": {
          "base_uri": "https://localhost:8080/"
        },
        "id": "FcEws8iJ2kPC",
        "outputId": "92e93476-0a6a-46b2-b937-dd221e68698e"
      },
      "source": [
        "from typing import Optional\n",
        "# Create an loop connecting this agent to the environment created above.\n",
        "env_loop = environment_loop.EnvironmentLoop(environment, agent, logger=env_loop_logger)\n",
        "\n",
        "#a = env_loop.run_episode()\n",
        "#print(a['episode_return'])\n",
        "\n",
        "def my_run(self,\n",
        "          num_episodes: Optional[int] = None,\n",
        "          num_steps: Optional[int] = None):\n",
        "    \"\"\"Perform the run loop.\n",
        "    Run the environment loop either for `num_episodes` episodes or for at\n",
        "    least `num_steps` steps (the last episode is always run until completion,\n",
        "    so the total number of steps may be slightly more than `num_steps`).\n",
        "    At least one of these two arguments has to be None.\n",
        "    Upon termination of an episode a new episode will be started. If the number\n",
        "    of episodes and the number of steps are not given then this will interact\n",
        "    with the environment infinitely.\n",
        "    Args:\n",
        "      num_episodes: number of episodes to run the loop for.\n",
        "      num_steps: minimal number of steps to run the loop for.\n",
        "    Raises:\n",
        "      ValueError: If both 'num_episodes' and 'num_steps' are not None.\n",
        "    \"\"\"\n",
        "\n",
        "    return_list = []\n",
        "    episode_list = []\n",
        "\n",
        "    if not (num_episodes is None or num_steps is None):\n",
        "      raise ValueError('Either \"num_episodes\" or \"num_steps\" should be None.')\n",
        "\n",
        "    def should_terminate(episode_count: int, step_count: int) -> bool:\n",
        "      return ((num_episodes is not None and episode_count >= num_episodes) or\n",
        "              (num_steps is not None and step_count >= num_steps))\n",
        "\n",
        "    episode_count, step_count = 0, 0\n",
        "    while not should_terminate(episode_count, step_count):\n",
        "      result = self.run_episode()\n",
        "      episode_count += 1\n",
        "      step_count += result['episode_length']\n",
        "      # Log the given results.\n",
        "      self._logger.write(result)\n",
        "      # new inndications to print sth\n",
        "      return_list.append(result[\"episode_return\"])\n",
        "      episode_list.append(episode_count)\n",
        "\n",
        "    return episode_list, return_list\n",
        "\n",
        "\n",
        "environment_loop.EnvironmentLoop.run = my_run\n",
        "\n",
        "# Run a `num_episodes` training episodes.\n",
        "# Rerun this cell until the agent has learned the given task.\n",
        "episode_list, return_list = env_loop.run(num_episodes=300)\n",
        "\n"
      ],
      "execution_count": 8,
      "outputs": [
        {
          "output_type": "stream",
          "text": [
            "[Env Loop] Episode Length = 999 | Episode Return = -103.87512969970703 | Episodes = 1 | Steps = 999 | Steps Per Second = 309.865\n",
            "[Agent] Critic Loss = 3.936 | Policy Loss = 0.500 | Steps = 1 | Walltime = 0\n",
            "[Env Loop] Episode Length = 999 | Episode Return = -26.418882369995117 | Episodes = 3 | Steps = 2997 | Steps Per Second = 331.009\n",
            "[Agent] Critic Loss = 3.798 | Policy Loss = 0.154 | Steps = 389 | Walltime = 10.008\n",
            "[Env Loop] Episode Length = 999 | Episode Return = -30.537649154663086 | Episodes = 7 | Steps = 6993 | Steps Per Second = 289.641\n",
            "[Agent] Critic Loss = 3.690 | Policy Loss = 0.006 | Steps = 757 | Walltime = 20.021\n",
            "[Agent] Critic Loss = 3.554 | Policy Loss = 0.004 | Steps = 1138 | Walltime = 30.022\n",
            "[Env Loop] Episode Length = 999 | Episode Return = -29.493892669677734 | Episodes = 11 | Steps = 10989 | Steps Per Second = 330.151\n",
            "[Agent] Critic Loss = 3.416 | Policy Loss = 0.008 | Steps = 1526 | Walltime = 40.031\n",
            "[Env Loop] Episode Length = 999 | Episode Return = -31.59387969970703 | Episodes = 15 | Steps = 14985 | Steps Per Second = 313.766\n",
            "[Agent] Critic Loss = 3.304 | Policy Loss = 0.004 | Steps = 1912 | Walltime = 50.043\n",
            "[Env Loop] Episode Length = 999 | Episode Return = -42.35636520385742 | Episodes = 18 | Steps = 17982 | Steps Per Second = 293.858\n",
            "[Agent] Critic Loss = 3.186 | Policy Loss = 0.005 | Steps = 2282 | Walltime = 60.058\n",
            "[Env Loop] Episode Length = 999 | Episode Return = -104.4063491821289 | Episodes = 22 | Steps = 21978 | Steps Per Second = 314.500\n",
            "[Agent] Critic Loss = 2.978 | Policy Loss = 0.027 | Steps = 2675 | Walltime = 70.065\n",
            "[Agent] Critic Loss = 2.778 | Policy Loss = 0.001 | Steps = 3063 | Walltime = 80.085\n",
            "[Env Loop] Episode Length = 999 | Episode Return = -127.53778076171875 | Episodes = 26 | Steps = 25974 | Steps Per Second = 306.290\n",
            "[Agent] Critic Loss = 2.594 | Policy Loss = 0.004 | Steps = 3439 | Walltime = 90.106\n",
            "[Env Loop] Episode Length = 999 | Episode Return = -129.9003143310547 | Episodes = 30 | Steps = 29926 | Steps Per Second = 316.899\n",
            "[Agent] Critic Loss = 2.393 | Policy Loss = 0.004 | Steps = 3828 | Walltime = 100.107\n",
            "[Env Loop] Episode Length = 999 | Episode Return = -126.01903533935547 | Episodes = 34 | Steps = 33922 | Steps Per Second = 308.200\n",
            "[Agent] Critic Loss = 2.220 | Policy Loss = 0.002 | Steps = 4208 | Walltime = 110.123\n",
            "[Env Loop] Episode Length = 999 | Episode Return = -132.91900634765625 | Episodes = 37 | Steps = 36919 | Steps Per Second = 312.760\n",
            "[Agent] Critic Loss = 2.082 | Policy Loss = 0.002 | Steps = 4579 | Walltime = 120.123\n",
            "[Env Loop] Episode Length = 999 | Episode Return = -124.66896057128906 | Episodes = 40 | Steps = 39916 | Steps Per Second = 285.533\n",
            "[Agent] Critic Loss = 1.926 | Policy Loss = 0.005 | Steps = 4950 | Walltime = 130.147\n",
            "[Agent] Critic Loss = 1.786 | Policy Loss = 0.008 | Steps = 5332 | Walltime = 140.152\n",
            "[Env Loop] Episode Length = 999 | Episode Return = -135.81890869140625 | Episodes = 44 | Steps = 43912 | Steps Per Second = 323.492\n",
            "[Agent] Critic Loss = 1.637 | Policy Loss = 0.005 | Steps = 5721 | Walltime = 150.161\n",
            "[Env Loop] Episode Length = 999 | Episode Return = -133.80648803710938 | Episodes = 48 | Steps = 47908 | Steps Per Second = 313.236\n",
            "[Agent] Critic Loss = 1.528 | Policy Loss = 0.002 | Steps = 6108 | Walltime = 160.191\n",
            "[Env Loop] Episode Length = 999 | Episode Return = -135.7064666748047 | Episodes = 52 | Steps = 51904 | Steps Per Second = 330.107\n",
            "[Agent] Critic Loss = 1.446 | Policy Loss = 0.001 | Steps = 6495 | Walltime = 170.216\n",
            "[Env Loop] Episode Length = 999 | Episode Return = -137.08145141601562 | Episodes = 55 | Steps = 54901 | Steps Per Second = 293.945\n",
            "[Agent] Critic Loss = 1.365 | Policy Loss = 0.005 | Steps = 6858 | Walltime = 180.241\n",
            "[Env Loop] Episode Length = 999 | Episode Return = -134.48770141601562 | Episodes = 58 | Steps = 57898 | Steps Per Second = 296.111\n",
            "[Agent] Critic Loss = 1.290 | Policy Loss = 0.000 | Steps = 7226 | Walltime = 190.246\n",
            "[Env Loop] Episode Length = 999 | Episode Return = -129.76271057128906 | Episodes = 62 | Steps = 61894 | Steps Per Second = 293.443\n",
            "[Agent] Critic Loss = 1.233 | Policy Loss = 0.001 | Steps = 7622 | Walltime = 200.261\n",
            "[Agent] Critic Loss = 1.205 | Policy Loss = 0.002 | Steps = 8018 | Walltime = 210.264\n",
            "[Env Loop] Episode Length = 999 | Episode Return = -130.51898193359375 | Episodes = 66 | Steps = 65890 | Steps Per Second = 303.011\n",
            "[Agent] Critic Loss = 1.173 | Policy Loss = 0.002 | Steps = 8400 | Walltime = 220.283\n",
            "[Env Loop] Episode Length = 999 | Episode Return = -121.5439682006836 | Episodes = 70 | Steps = 69886 | Steps Per Second = 293.663\n",
            "[Agent] Critic Loss = 1.144 | Policy Loss = 0.001 | Steps = 8775 | Walltime = 230.290\n",
            "[Env Loop] Episode Length = 999 | Episode Return = -137.5251007080078 | Episodes = 74 | Steps = 73882 | Steps Per Second = 301.028\n",
            "[Agent] Critic Loss = 1.139 | Policy Loss = 0.001 | Steps = 9159 | Walltime = 240.308\n",
            "[Agent] Critic Loss = 1.124 | Policy Loss = 0.003 | Steps = 9548 | Walltime = 250.324\n",
            "[Env Loop] Episode Length = 999 | Episode Return = -128.86280822753906 | Episodes = 78 | Steps = 77878 | Steps Per Second = 307.207\n",
            "[Agent] Critic Loss = 1.118 | Policy Loss = 0.000 | Steps = 9940 | Walltime = 260.347\n",
            "[Env Loop] Episode Length = 999 | Episode Return = -124.10025024414062 | Episodes = 82 | Steps = 81874 | Steps Per Second = 289.819\n",
            "[Agent] Critic Loss = 1.122 | Policy Loss = 0.005 | Steps = 10316 | Walltime = 270.348\n",
            "[Env Loop] Episode Length = 999 | Episode Return = -124.18151092529297 | Episodes = 86 | Steps = 85870 | Steps Per Second = 324.526\n",
            "[Agent] Critic Loss = 1.112 | Policy Loss = 0.001 | Steps = 10714 | Walltime = 280.363\n",
            "[Env Loop] Episode Length = 999 | Episode Return = -125.25648498535156 | Episodes = 89 | Steps = 88867 | Steps Per Second = 288.720\n",
            "[Agent] Critic Loss = 1.104 | Policy Loss = 0.001 | Steps = 11074 | Walltime = 290.378\n",
            "[Env Loop] Episode Length = 999 | Episode Return = -117.23147583007812 | Episodes = 93 | Steps = 92696 | Steps Per Second = 311.524\n",
            "[Agent] Critic Loss = 1.091 | Policy Loss = 0.000 | Steps = 11467 | Walltime = 300.396\n",
            "[Agent] Critic Loss = 1.104 | Policy Loss = 0.004 | Steps = 11853 | Walltime = 310.410\n",
            "[Env Loop] Episode Length = 999 | Episode Return = -123.65650939941406 | Episodes = 97 | Steps = 96692 | Steps Per Second = 291.504\n",
            "[Agent] Critic Loss = 1.095 | Policy Loss = 0.001 | Steps = 12235 | Walltime = 320.429\n",
            "[Env Loop] Episode Length = 999 | Episode Return = -129.8314971923828 | Episodes = 101 | Steps = 100688 | Steps Per Second = 318.655\n",
            "[Agent] Critic Loss = 1.098 | Policy Loss = 0.002 | Steps = 12635 | Walltime = 330.444\n",
            "[Env Loop] Episode Length = 999 | Episode Return = -120.45023345947266 | Episodes = 105 | Steps = 104684 | Steps Per Second = 305.572\n",
            "[Agent] Critic Loss = 1.104 | Policy Loss = 0.005 | Steps = 13013 | Walltime = 340.464\n",
            "[Agent] Critic Loss = 1.121 | Policy Loss = 0.008 | Steps = 13400 | Walltime = 350.484\n",
            "[Env Loop] Episode Length = 999 | Episode Return = -125.87525939941406 | Episodes = 109 | Steps = 108630 | Steps Per Second = 328.415\n",
            "[Agent] Critic Loss = 1.116 | Policy Loss = 0.007 | Steps = 13792 | Walltime = 360.500\n",
            "[Env Loop] Episode Length = 999 | Episode Return = -119.86897277832031 | Episodes = 113 | Steps = 112626 | Steps Per Second = 330.568\n",
            "[Agent] Critic Loss = 1.121 | Policy Loss = 0.007 | Steps = 14192 | Walltime = 370.523\n",
            "[Env Loop] Episode Length = 999 | Episode Return = -127.9190444946289 | Episodes = 117 | Steps = 116622 | Steps Per Second = 323.713\n",
            "[Agent] Critic Loss = 1.109 | Policy Loss = 0.004 | Steps = 14578 | Walltime = 380.546\n",
            "[Env Loop] Episode Length = 999 | Episode Return = -124.90652465820312 | Episodes = 121 | Steps = 120618 | Steps Per Second = 325.166\n",
            "[Agent] Critic Loss = 1.122 | Policy Loss = 0.003 | Steps = 14982 | Walltime = 390.552\n",
            "[Env Loop] Episode Length = 999 | Episode Return = -120.26270294189453 | Episodes = 124 | Steps = 123615 | Steps Per Second = 294.910\n",
            "[Agent] Critic Loss = 1.119 | Policy Loss = 0.003 | Steps = 15353 | Walltime = 400.552\n",
            "[Agent] Critic Loss = 1.137 | Policy Loss = 0.007 | Steps = 15744 | Walltime = 410.582\n",
            "[Env Loop] Episode Length = 999 | Episode Return = -118.39398193359375 | Episodes = 128 | Steps = 127611 | Steps Per Second = 308.245\n",
            "[Agent] Critic Loss = 1.135 | Policy Loss = 0.016 | Steps = 16135 | Walltime = 420.583\n",
            "[Env Loop] Episode Length = 999 | Episode Return = -126.05648040771484 | Episodes = 132 | Steps = 131483 | Steps Per Second = 303.448\n",
            "[Agent] Critic Loss = 1.159 | Policy Loss = 0.022 | Steps = 16517 | Walltime = 430.604\n",
            "[Env Loop] Episode Length = 999 | Episode Return = -112.16893005371094 | Episodes = 136 | Steps = 134771 | Steps Per Second = 315.764\n",
            "[Agent] Critic Loss = 1.176 | Policy Loss = 0.011 | Steps = 16910 | Walltime = 440.607\n",
            "[Env Loop] Episode Length = 785 | Episode Return = -5.793952941894531 | Episodes = 140 | Steps = 138150 | Steps Per Second = 337.261\n",
            "[Agent] Critic Loss = 1.199 | Policy Loss = 0.022 | Steps = 17309 | Walltime = 450.614\n",
            "[Env Loop] Episode Length = 824 | Episode Return = -8.881454467773438 | Episodes = 145 | Steps = 141450 | Steps Per Second = 292.288\n",
            "[Agent] Critic Loss = 1.204 | Policy Loss = 0.032 | Steps = 17685 | Walltime = 460.633\n",
            "[Env Loop] Episode Length = 926 | Episode Return = -15.475128173828125 | Episodes = 150 | Steps = 145198 | Steps Per Second = 300.046\n",
            "[Agent] Critic Loss = 1.253 | Policy Loss = 0.043 | Steps = 18069 | Walltime = 470.640\n",
            "[Env Loop] Episode Length = 271 | Episode Return = 67.45625305175781 | Episodes = 157 | Steps = 148566 | Steps Per Second = 299.229\n",
            "[Agent] Critic Loss = 1.271 | Policy Loss = 0.042 | Steps = 18461 | Walltime = 480.646\n",
            "[Agent] Critic Loss = 1.248 | Policy Loss = 0.023 | Steps = 18839 | Walltime = 490.656\n",
            "[Env Loop] Episode Length = 526 | Episode Return = 30.71240997314453 | Episodes = 163 | Steps = 152122 | Steps Per Second = 285.867\n",
            "[Agent] Critic Loss = 1.288 | Policy Loss = 0.064 | Steps = 19242 | Walltime = 500.658\n",
            "[Env Loop] Episode Length = 870 | Episode Return = -16.400222778320312 | Episodes = 169 | Steps = 155934 | Steps Per Second = 293.706\n",
            "[Agent] Critic Loss = 1.411 | Policy Loss = 0.091 | Steps = 19612 | Walltime = 510.660\n",
            "[Env Loop] Episode Length = 296 | Episode Return = 64.48749542236328 | Episodes = 179 | Steps = 159110 | Steps Per Second = 303.947\n",
            "[Agent] Critic Loss = 1.457 | Policy Loss = 0.102 | Steps = 19992 | Walltime = 520.681\n",
            "[Env Loop] Episode Length = 289 | Episode Return = 69.375 | Episodes = 191 | Steps = 162480 | Steps Per Second = 285.319\n",
            "[Agent] Critic Loss = 1.453 | Policy Loss = 0.104 | Steps = 20375 | Walltime = 530.697\n",
            "[Env Loop] Episode Length = 247 | Episode Return = 68.04376220703125 | Episodes = 205 | Steps = 165787 | Steps Per Second = 296.507\n",
            "[Agent] Critic Loss = 1.542 | Policy Loss = 0.143 | Steps = 20776 | Walltime = 540.698\n",
            "[Env Loop] Episode Length = 285 | Episode Return = 70.72500610351562 | Episodes = 218 | Steps = 168868 | Steps Per Second = 303.191\n",
            "[Agent] Critic Loss = 1.661 | Policy Loss = 0.233 | Steps = 21153 | Walltime = 550.708\n",
            "[Env Loop] Episode Length = 333 | Episode Return = 73.11251831054688 | Episodes = 224 | Steps = 172047 | Steps Per Second = 296.336\n",
            "[Agent] Critic Loss = 1.728 | Policy Loss = 0.134 | Steps = 21533 | Walltime = 560.734\n",
            "[Env Loop] Episode Length = 235 | Episode Return = 71.28125762939453 | Episodes = 236 | Steps = 175171 | Steps Per Second = 318.668\n",
            "[Agent] Critic Loss = 1.780 | Policy Loss = 0.199 | Steps = 21912 | Walltime = 570.737\n",
            "[Env Loop] Episode Length = 327 | Episode Return = 55.00624465942383 | Episodes = 250 | Steps = 178458 | Steps Per Second = 313.155\n",
            "[Agent] Critic Loss = 1.847 | Policy Loss = 0.294 | Steps = 22283 | Walltime = 580.749\n",
            "[Env Loop] Episode Length = 128 | Episode Return = 80.76875305175781 | Episodes = 264 | Steps = 181565 | Steps Per Second = 279.750\n",
            "[Agent] Critic Loss = 1.857 | Policy Loss = 0.266 | Steps = 22652 | Walltime = 590.771\n",
            "[Env Loop] Episode Length = 132 | Episode Return = 78.11250305175781 | Episodes = 274 | Steps = 184413 | Steps Per Second = 277.309\n",
            "[Agent] Critic Loss = 1.868 | Policy Loss = 0.295 | Steps = 23009 | Walltime = 600.779\n",
            "[Env Loop] Episode Length = 238 | Episode Return = 74.13125610351562 | Episodes = 286 | Steps = 187406 | Steps Per Second = 291.888\n",
            "[Agent] Critic Loss = 1.878 | Policy Loss = 0.280 | Steps = 23378 | Walltime = 610.803\n",
            "[Env Loop] Episode Length = 212 | Episode Return = 72.18751525878906 | Episodes = 300 | Steps = 190434 | Steps Per Second = 289.185\n"
          ],
          "name": "stdout"
        }
      ]
    },
    {
      "cell_type": "code",
      "metadata": {
        "id": "b7zfPeGAot3P"
      },
      "source": [
        "import matplotlib\n",
        "matplotlib.use('TkAgg') # it tackles UserWarning Issue\n",
        "import matplotlib.pyplot as plt\n",
        "%matplotlib inline"
      ],
      "execution_count": 9,
      "outputs": []
    },
    {
      "cell_type": "code",
      "metadata": {
        "id": "9BxgYKTKN7IK",
        "colab": {
          "base_uri": "https://localhost:8080/",
          "height": 295
        },
        "outputId": "92d353f7-fd3d-4e03-a13c-c7a80ab98fa5"
      },
      "source": [
        "\n",
        "average_return_list =[-120]\n",
        "avg = 0\n",
        "for i in range(1,len(return_list)):\n",
        "  avg = sum(return_list[:i])/len(return_list[:i])\n",
        "  average_return_list.append(avg)\n",
        "\n",
        "plt.plot(episode_list, return_list, label= \"episode return\", c='b')\n",
        "plt.plot(episode_list, average_return_list , label= \"average episode return\", c='r')\n",
        "plt.legend(loc = 'lower right')\n",
        "plt.xlabel('Episodes')\n",
        "plt.title('Performance for 3 discrete actions available (-0.75,0,0.75)')\n",
        "plt.show()"
      ],
      "execution_count": 10,
      "outputs": [
        {
          "output_type": "display_data",
          "data": {
            "image/png": "[encoded data removed]",
            "text/plain": [
              "<Figure size 432x288 with 1 Axes>"
            ]
          },
          "metadata": {
            "tags": [],
            "needs_background": "light"
          }
        }
      ]
    },
    {
      "cell_type": "markdown",
      "metadata": {
        "id": "Ugz3cAgyPZa3"
      },
      "source": [
        "# Display\n"
      ]
    },
    {
      "cell_type": "code",
      "metadata": {
        "colab": {
          "base_uri": "https://localhost:8080/",
          "height": 261
        },
        "id": "dgv_dtH9tldm",
        "outputId": "7a6afc30-7f94-4861-b65c-1317a80421ed"
      },
      "source": [
        "def display_video(frames, filename='temp.mp4'):\n",
        "  \"\"\"Save and display video.\"\"\"\n",
        "  # Write video\n",
        "  with imageio.get_writer(filename, fps=60) as video:\n",
        "    for frame in frames:\n",
        "      video.append_data(frame)\n",
        "  # Read video and display the video\n",
        "  video = open(filename, 'rb').read()\n",
        "  b64_video = base64.b64encode(video)\n",
        "  video_tag = ('<video  width=\"320\" height=\"240\" controls alt=\"test\" '\n",
        "               'src=\"data:video/mp4;base64,{0}\">').format(b64_video.decode())\n",
        "  return IPython.display.HTML(video_tag)\n",
        "  \n",
        "timestep = environment.reset()\n",
        "frames = [render(environment)]\n",
        "\n",
        "while not timestep.last():\n",
        "  # Simple environment loop.\n",
        "  action = agent.select_action(timestep.observation)\n",
        "  timestep = environment.step(action)\n",
        "\n",
        "  # Render the scene and add it to the frame stack.\n",
        "  frames.append(render(environment))\n",
        "\n",
        "# Save and display a video of the behaviour.\n",
        "display_video(np.array(frames))\n",
        "\n"
      ],
      "execution_count": 11,
      "outputs": [
        {
          "output_type": "execute_result",
          "data": {
            "text/html": [
              "<video  width=\"320\" height=\"240\" controls alt=\"test\" src=\"data:video/mp4;base64,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\">"
            ],
            "text/plain": [
              "<IPython.core.display.HTML object>"
            ]
          },
          "metadata": {
            "tags": []
          },
          "execution_count": 11
        }
      ]
    },
    {
      "cell_type": "code",
      "metadata": {
        "id": "IXVex9N5YfHD"
      },
      "source": [
        ""
      ],
      "execution_count": null,
      "outputs": []
    }
  ]
}