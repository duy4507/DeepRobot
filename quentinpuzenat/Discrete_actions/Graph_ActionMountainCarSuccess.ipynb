{
  "nbformat": 4,
  "nbformat_minor": 0,
  "metadata": {
    "colab": {
      "name": "Graph_ActionMountainCarSuccess.ipynb",
      "provenance": []
    },
    "kernelspec": {
      "name": "python3",
      "display_name": "Python 3"
    },
    "accelerator": "GPU"
  },
  "cells": [
    {
      "cell_type": "markdown",
      "metadata": {
        "id": "K-BR1pbYnffU"
      },
      "source": [
        "## Installation"
      ]
    },
    {
      "cell_type": "code",
      "metadata": {
        "id": "49vkKguUnVT7"
      },
      "source": [
        "#@title Install necessary dependencies.\n",
        "\n",
        "!sudo apt-get install -y xvfb ffmpeg\n",
        "!pip install 'gym==0.10.11'\n",
        "!pip install imageio\n",
        "!pip install PILLOW\n",
        "!pip install 'pyglet==1.3.2'\n",
        "!pip install pyvirtualdisplay\n",
        "\n",
        "!pip install dm-acme\n",
        "!pip install dm-acme[reverb]\n",
        "!pip install dm-acme[tf]\n",
        "!pip install dm-acme[envs]\n",
        "\n",
        "from IPython.display import clear_output\n",
        "clear_output()"
      ],
      "execution_count": 1,
      "outputs": []
    },
    {
      "cell_type": "code",
      "metadata": {
        "id": "JVTQCTb4nevt"
      },
      "source": [
        "#@title Import modules.\n",
        "#python3\n",
        "\n",
        "%%capture\n",
        "import copy\n",
        "import pyvirtualdisplay\n",
        "import imageio \n",
        "import base64\n",
        "import IPython\n",
        "\n",
        "\n",
        "from acme import environment_loop\n",
        "from acme.tf import networks\n",
        "from acme.adders import reverb as adders\n",
        "from acme.agents.tf import actors as actors\n",
        "from acme.datasets import reverb as datasets\n",
        "from acme.wrappers import gym_wrapper\n",
        "from acme import specs\n",
        "from acme import wrappers\n",
        "from acme.agents.tf import d4pg\n",
        "from acme.agents import agent\n",
        "from acme.tf import utils as tf2_utils\n",
        "from acme.utils import loggers\n",
        "\n",
        "import gym \n",
        "import dm_env\n",
        "import matplotlib.pyplot as plt\n",
        "import numpy as np\n",
        "import reverb\n",
        "import sonnet as snt\n",
        "import tensorflow as tf\n",
        "\n",
        "# Import dm_control if it exists.\n",
        "try:\n",
        "  from dm_control import suite\n",
        "except (ModuleNotFoundError, OSError):\n",
        "  pass\n",
        "\n",
        "# Set up a virtual display for rendering OpenAI gym environments.\n",
        "display = pyvirtualdisplay.Display(visible=0, size=(1400, 900)).start()"
      ],
      "execution_count": 2,
      "outputs": []
    },
    {
      "cell_type": "markdown",
      "metadata": {
        "id": "RS5GfnyIn0KZ"
      },
      "source": [
        "## Environnement"
      ]
    },
    {
      "cell_type": "code",
      "metadata": {
        "colab": {
          "base_uri": "https://localhost:8080/"
        },
        "id": "Bmw1y49antfo",
        "outputId": "691ff285-59e1-47b2-fdc9-8261296b1a04"
      },
      "source": [
        "environment = gym_wrapper.GymWrapper(gym.make('MountainCarContinuous-v0'))\n",
        "environment = wrappers.SinglePrecisionWrapper(environment)\n",
        "def render(env):\n",
        "  return env.environment.render(mode='rgb_array')\n",
        "\n",
        "# Show the frame.\n",
        "frame = render(environment)\n",
        "plt.imshow(frame)\n",
        "plt.axis('on')"
      ],
      "execution_count": 3,
      "outputs": [
        {
          "output_type": "execute_result",
          "data": {
            "text/plain": [
              "(-0.5, 599.5, 399.5, -0.5)"
            ]
          },
          "metadata": {
            "tags": []
          },
          "execution_count": 3
        }
      ]
    },
    {
      "cell_type": "markdown",
      "metadata": {
        "id": "btYIt7zepSRc"
      },
      "source": [
        "### Environement specs"
      ]
    },
    {
      "cell_type": "code",
      "metadata": {
        "id": "Gt4r8htioAmK"
      },
      "source": [
        "environment_spec = specs.make_environment_spec(environment)"
      ],
      "execution_count": 4,
      "outputs": []
    },
    {
      "cell_type": "markdown",
      "metadata": {
        "id": "tfoVqTKGPUqI"
      },
      "source": [
        "# Agent choice"
      ]
    },
    {
      "cell_type": "code",
      "metadata": {
        "id": "KQyIjOK2IHRM"
      },
      "source": [
        "#@title Build agent networks\n",
        "\n",
        "\n",
        "# Get total number of action dimensions from action spec.\n",
        "num_dimensions = np.prod(environment_spec.actions.shape, dtype=int)\n",
        "\n",
        "# Create the shared observation network; here simply a state-less operation.\n",
        "observation_network = tf2_utils.batch_concat\n",
        "\n",
        "# Create the deterministic policy network.\n",
        "policy_network = snt.Sequential([\n",
        "    networks.LayerNormMLP((256, 256, 256), activate_final=True),\n",
        "    networks.NearZeroInitializedLinear(num_dimensions),\n",
        "    networks.TanhToSpec(environment_spec.actions),\n",
        "])\n",
        "\n",
        "# Create the distributional critic network.\n",
        "critic_network = snt.Sequential([\n",
        "    # The multiplexer concatenates the observations/actions.\n",
        "    networks.CriticMultiplexer(),\n",
        "    networks.LayerNormMLP((512, 512, 256), activate_final=True),\n",
        "    networks.DiscreteValuedHead(vmin=-150., vmax=150., num_atoms=51),\n",
        "])\n"
      ],
      "execution_count": 5,
      "outputs": []
    },
    {
      "cell_type": "code",
      "metadata": {
        "id": "xeQ_shZN2d6g",
        "colab": {
          "base_uri": "https://localhost:8080/"
        },
        "outputId": "41ce74a5-e723-46ab-fa34-853d874c7b5f"
      },
      "source": [
        "# Create a logger for the agent and environment loop.\n",
        "agent_logger = loggers.TerminalLogger(label='agent', time_delta=10.)\n",
        "env_loop_logger = loggers.TerminalLogger(label='env_loop', time_delta=10.)\n",
        "\n",
        "# Create the D4PG agent.\n",
        "agent = d4pg.D4PG(\n",
        "    environment_spec=environment_spec,\n",
        "    policy_network=policy_network,\n",
        "    critic_network=critic_network,\n",
        "    observation_network=observation_network,\n",
        "    sigma=1.0,\n",
        "    logger=agent_logger,\n",
        "    checkpoint=False\n",
        ")\n",
        "\n",
        "#surcharger methode selection action agent\n",
        "\n",
        "def actionDecorator(og_function):\n",
        "  def nestedFunction(*args, **kwargs):\n",
        "    results = og_function(*args, **kwargs)\n",
        "    x = np.linspace(-1,1, 35)\n",
        "    proximity = 10\n",
        "    index = 0\n",
        "    for i in range(len(x)):\n",
        "      if np.abs(results[0] - x[i]) < proximity:\n",
        "        proximity = np.abs(results[0] - x[i])\n",
        "        index = i \n",
        "    results[0] = x[index]\n",
        "    #print(results)\n",
        "    return results\n",
        "  return nestedFunction\n",
        "\n",
        "agent.select_action = actionDecorator(agent.select_action)\n",
        "\n",
        "#2eme possibilitée\n",
        "#environment_loop.EnvironmentLoop = ma_function\n",
        "\n"
      ],
      "execution_count": 6,
      "outputs": [
        {
          "output_type": "stream",
          "text": [
            "WARNING: Entity <function _yield_value at 0x7efe543d3400> appears to be a generator function. It will not be converted by AutoGraph.\n"
          ],
          "name": "stdout"
        }
      ]
    },
    {
      "cell_type": "markdown",
      "metadata": {
        "id": "YXdJBOG8kK0f"
      },
      "source": [
        "### code acme: EnvironmentLoop Class"
      ]
    },
    {
      "cell_type": "code",
      "metadata": {
        "id": "QJxPQa_Win7A"
      },
      "source": [
        "\"\"\"A simple agent-environment training loop.\"\"\"\n",
        "\n",
        "import operator\n",
        "import time\n",
        "from typing import Optional\n",
        "\n",
        "from acme import core\n",
        "# Internal imports.\n",
        "from acme.utils import counting\n",
        "from acme.utils import loggers\n",
        "\n",
        "import dm_env\n",
        "from dm_env import specs\n",
        "import numpy as np\n",
        "import tree\n",
        "\n",
        "\n",
        "class EnvironmentLoop(core.Worker):\n",
        "  \"\"\"A simple RL environment loop.\n",
        "    See acme doc for more infos.\n",
        "  \"\"\"\n",
        "\n",
        "  def __init__(\n",
        "      self,\n",
        "      environment: dm_env.Environment,\n",
        "      actor: core.Actor,\n",
        "      counter: counting.Counter = None,\n",
        "      logger: loggers.Logger = None,\n",
        "      should_update: bool = True,\n",
        "      label: str = 'environment_loop',\n",
        "  ):\n",
        "    # Internalize agent and environment.\n",
        "    self._environment = environment\n",
        "    self._actor = actor\n",
        "    self._counter = counter or counting.Counter()\n",
        "    self._logger = logger or loggers.make_default_logger(label)\n",
        "    self._should_update = should_update\n",
        "\n",
        "  def run_episode(self) -> loggers.LoggingData:\n",
        "    \"\"\"Run one episode.\n",
        "    Each episode is a loop which interacts first with the environment to get an\n",
        "    observation and then give that observation to the agent in order to retrieve\n",
        "    an action.\n",
        "    Returns:\n",
        "      An instance of `loggers.LoggingData`.\n",
        "    \"\"\"\n",
        "    # Reset any counts and start the environment.\n",
        "    start_time = time.time()\n",
        "    episode_steps = 0\n",
        "\n",
        "    # For evaluation, this keeps track of the total undiscounted reward\n",
        "    # accumulated during the episode.\n",
        "    episode_return = tree.map_structure(_generate_zeros_from_spec,\n",
        "                                        self._environment.reward_spec())\n",
        "    timestep = self._environment.reset()\n",
        "\n",
        "    # Make the first observation.\n",
        "    self._actor.observe_first(timestep)\n",
        "\n",
        "    # Run an episode.\n",
        "    while not timestep.last():\n",
        "      # Generate an action from the agent's policy and step the environment.\n",
        "      action = self._actor.select_action(timestep.observation)\n",
        "      timestep = self._environment.step(action)\n",
        "\n",
        "      # Have the agent observe the timestep and let the actor update itself.\n",
        "      self._actor.observe(action, next_timestep=timestep)\n",
        "      if self._should_update:\n",
        "        self._actor.update()\n",
        "\n",
        "      # Book-keeping.\n",
        "      episode_steps += 1\n",
        "\n",
        "      # Equivalent to: episode_return += timestep.reward\n",
        "      tree.map_structure(operator.iadd, episode_return, timestep.reward)\n",
        "\n",
        "    # Record counts.\n",
        "    counts = self._counter.increment(episodes=1, steps=episode_steps)\n",
        "\n",
        "    # Collect the results and combine with counts.\n",
        "    steps_per_second = episode_steps / (time.time() - start_time)\n",
        "    result = {\n",
        "        'episode_length': episode_steps,\n",
        "        'episode_return': episode_return,\n",
        "        'steps_per_second': steps_per_second,\n",
        "    }\n",
        "    result.update(counts)\n",
        "    return result\n",
        "\n",
        "  def run(self,\n",
        "          num_episodes: Optional[int] = None,\n",
        "          num_steps: Optional[int] = None):\n",
        "    \"\"\"Perform the run loop.\n",
        "    Run the environment loop either for `num_episodes` episodes or for at\n",
        "    least `num_steps` steps (the last episode is always run until completion,\n",
        "    so the total number of steps may be slightly more than `num_steps`).\n",
        "    At least one of these two arguments has to be None.\n",
        "    Upon termination of an episode a new episode will be started. If the number\n",
        "    of episodes and the number of steps are not given then this will interact\n",
        "    with the environment infinitely.\n",
        "    Args:\n",
        "      num_episodes: number of episodes to run the loop for.\n",
        "      num_steps: minimal number of steps to run the loop for.\n",
        "    Raises:\n",
        "      ValueError: If both 'num_episodes' and 'num_steps' are not None.\n",
        "    \"\"\"\n",
        "\n",
        "    if not (num_episodes is None or num_steps is None):\n",
        "      raise ValueError('Either \"num_episodes\" or \"num_steps\" should be None.')\n",
        "\n",
        "    def should_terminate(episode_count: int, step_count: int) -> bool:\n",
        "      return ((num_episodes is not None and episode_count >= num_episodes) or\n",
        "              (num_steps is not None and step_count >= num_steps))\n",
        "\n",
        "    episode_count, step_count = 0, 0\n",
        "    while not should_terminate(episode_count, step_count):\n",
        "      result = self.run_episode()\n",
        "      episode_count += 1\n",
        "      step_count += result['episode_length']\n",
        "      # Log the given results.\n",
        "      self._logger.write(result)\n",
        "\n",
        "\n",
        "def _generate_zeros_from_spec(spec: specs.Array) -> np.ndarray:\n",
        "  return np.zeros(spec.shape, spec.dtype)\n"
      ],
      "execution_count": 7,
      "outputs": []
    },
    {
      "cell_type": "markdown",
      "metadata": {
        "id": "B8mQXiDxkRfy"
      },
      "source": [
        "# Loop to output a graph"
      ]
    },
    {
      "cell_type": "code",
      "metadata": {
        "colab": {
          "base_uri": "https://localhost:8080/"
        },
        "id": "FcEws8iJ2kPC",
        "outputId": "ce03c1f0-9681-4002-fdb9-a1399fc0e0f4"
      },
      "source": [
        "# Create an loop connecting this agent to the environment created above.\n",
        "env_loop = environment_loop.EnvironmentLoop(environment, agent, logger=env_loop_logger)\n",
        "\n",
        "#a = env_loop.run_episode()\n",
        "#print(a['episode_return'])\n",
        "\n",
        "def my_run(self,\n",
        "          num_episodes: Optional[int] = None,\n",
        "          num_steps: Optional[int] = None):\n",
        "    \"\"\"Perform the run loop.\n",
        "    Run the environment loop either for `num_episodes` episodes or for at\n",
        "    least `num_steps` steps (the last episode is always run until completion,\n",
        "    so the total number of steps may be slightly more than `num_steps`).\n",
        "    At least one of these two arguments has to be None.\n",
        "    Upon termination of an episode a new episode will be started. If the number\n",
        "    of episodes and the number of steps are not given then this will interact\n",
        "    with the environment infinitely.\n",
        "    Args:\n",
        "      num_episodes: number of episodes to run the loop for.\n",
        "      num_steps: minimal number of steps to run the loop for.\n",
        "    Raises:\n",
        "      ValueError: If both 'num_episodes' and 'num_steps' are not None.\n",
        "    \"\"\"\n",
        "\n",
        "    return_list = []\n",
        "    episode_list = []\n",
        "\n",
        "    if not (num_episodes is None or num_steps is None):\n",
        "      raise ValueError('Either \"num_episodes\" or \"num_steps\" should be None.')\n",
        "\n",
        "    def should_terminate(episode_count: int, step_count: int) -> bool:\n",
        "      return ((num_episodes is not None and episode_count >= num_episodes) or\n",
        "              (num_steps is not None and step_count >= num_steps))\n",
        "\n",
        "    episode_count, step_count = 0, 0\n",
        "    while not should_terminate(episode_count, step_count):\n",
        "      result = self.run_episode()\n",
        "      episode_count += 1\n",
        "      step_count += result['episode_length']\n",
        "      # Log the given results.\n",
        "      self._logger.write(result)\n",
        "      # new inndications to print sth\n",
        "      return_list.append(result[\"episode_return\"])\n",
        "      episode_list.append(episode_count)\n",
        "\n",
        "    return episode_list, return_list\n",
        "\n",
        "\n",
        "environment_loop.EnvironmentLoop.run = my_run\n",
        "\n",
        "# Run a `num_episodes` training episodes.\n",
        "# Rerun this cell until the agent has learned the given task.\n",
        "episode_list, return_list = env_loop.run(num_episodes=300)\n",
        "\n"
      ],
      "execution_count": 8,
      "outputs": [
        {
          "output_type": "stream",
          "text": [
            "[Agent] Critic Loss = 3.944 | Policy Loss = 0.500 | Steps = 1 | Walltime = 0\n",
            "[Env Loop] Episode Length = 999 | Episode Return = -51.96737289428711 | Episodes = 2 | Steps = 1998 | Steps Per Second = 123.406\n",
            "[Agent] Critic Loss = 3.734 | Policy Loss = 0.039 | Steps = 367 | Walltime = 10.021\n",
            "[Env Loop] Episode Length = 999 | Episode Return = -50.86669921875 | Episodes = 5 | Steps = 4995 | Steps Per Second = 290.803\n",
            "[Agent] Critic Loss = 3.512 | Policy Loss = 0.001 | Steps = 729 | Walltime = 20.030\n",
            "[Env Loop] Episode Length = 999 | Episode Return = -59.246150970458984 | Episodes = 8 | Steps = 7992 | Steps Per Second = 260.679\n",
            "[Agent] Critic Loss = 3.344 | Policy Loss = 0.017 | Steps = 1080 | Walltime = 30.052\n",
            "[Env Loop] Episode Length = 999 | Episode Return = -58.58980178833008 | Episodes = 13 | Steps = 11477 | Steps Per Second = 289.313\n",
            "[Agent] Critic Loss = 3.186 | Policy Loss = 0.011 | Steps = 1439 | Walltime = 40.067\n",
            "[Env Loop] Episode Length = 999 | Episode Return = -63.66929626464844 | Episodes = 16 | Steps = 14474 | Steps Per Second = 273.133\n",
            "[Agent] Critic Loss = 3.040 | Policy Loss = 0.015 | Steps = 1797 | Walltime = 50.076\n",
            "[Env Loop] Episode Length = 985 | Episode Return = 39.89745330810547 | Episodes = 20 | Steps = 18004 | Steps Per Second = 293.700\n",
            "[Agent] Critic Loss = 2.872 | Policy Loss = 0.020 | Steps = 2162 | Walltime = 60.094\n",
            "[Agent] Critic Loss = 2.731 | Policy Loss = 0.057 | Steps = 2538 | Walltime = 70.104\n",
            "[Env Loop] Episode Length = 999 | Episode Return = -66.6148910522461 | Episodes = 24 | Steps = 21508 | Steps Per Second = 300.509\n",
            "[Agent] Critic Loss = 2.581 | Policy Loss = 0.104 | Steps = 2910 | Walltime = 80.119\n",
            "[Env Loop] Episode Length = 482 | Episode Return = 65.76017761230469 | Episodes = 32 | Steps = 24602 | Steps Per Second = 301.255\n",
            "[Agent] Critic Loss = 2.489 | Policy Loss = 0.260 | Steps = 3269 | Walltime = 90.145\n",
            "[Env Loop] Episode Length = 85 | Episode Return = 93.94083404541016 | Episodes = 49 | Steps = 27505 | Steps Per Second = 296.024\n",
            "[Agent] Critic Loss = 2.399 | Policy Loss = 0.333 | Steps = 3634 | Walltime = 100.158\n",
            "[Env Loop] Episode Length = 156 | Episode Return = 89.61591339111328 | Episodes = 67 | Steps = 30501 | Steps Per Second = 314.388\n",
            "[Agent] Critic Loss = 2.311 | Policy Loss = 0.352 | Steps = 4000 | Walltime = 110.169\n",
            "[Env Loop] Episode Length = 147 | Episode Return = 90.78477478027344 | Episodes = 89 | Steps = 33488 | Steps Per Second = 275.243\n",
            "[Agent] Critic Loss = 2.237 | Policy Loss = 0.402 | Steps = 4359 | Walltime = 120.171\n",
            "[Env Loop] Episode Length = 106 | Episode Return = 92.83079528808594 | Episodes = 112 | Steps = 36394 | Steps Per Second = 274.577\n",
            "[Agent] Critic Loss = 2.058 | Policy Loss = 0.383 | Steps = 4726 | Walltime = 130.183\n",
            "[Env Loop] Episode Length = 124 | Episode Return = 91.48824310302734 | Episodes = 134 | Steps = 39443 | Steps Per Second = 286.618\n",
            "[Agent] Critic Loss = 2.009 | Policy Loss = 0.350 | Steps = 5099 | Walltime = 140.185\n",
            "[Env Loop] Episode Length = 113 | Episode Return = 92.43702697753906 | Episodes = 159 | Steps = 42457 | Steps Per Second = 257.794\n",
            "[Agent] Critic Loss = 2.021 | Policy Loss = 0.341 | Steps = 5474 | Walltime = 150.203\n",
            "[Env Loop] Episode Length = 141 | Episode Return = 90.04083251953125 | Episodes = 186 | Steps = 45592 | Steps Per Second = 286.130\n",
            "[Agent] Critic Loss = 1.926 | Policy Loss = 0.324 | Steps = 5848 | Walltime = 160.226\n",
            "[Env Loop] Episode Length = 115 | Episode Return = 91.57440185546875 | Episodes = 210 | Steps = 48565 | Steps Per Second = 279.600\n",
            "[Agent] Critic Loss = 1.923 | Policy Loss = 0.353 | Steps = 6213 | Walltime = 170.235\n",
            "[Env Loop] Episode Length = 115 | Episode Return = 92.01488494873047 | Episodes = 234 | Steps = 51516 | Steps Per Second = 338.869\n",
            "[Agent] Critic Loss = 1.863 | Policy Loss = 0.316 | Steps = 6584 | Walltime = 180.240\n",
            "[Env Loop] Episode Length = 140 | Episode Return = 90.43633270263672 | Episodes = 261 | Steps = 54610 | Steps Per Second = 312.355\n",
            "[Agent] Critic Loss = 1.829 | Policy Loss = 0.300 | Steps = 6960 | Walltime = 190.244\n",
            "[Env Loop] Episode Length = 104 | Episode Return = 93.00138854980469 | Episodes = 287 | Steps = 57664 | Steps Per Second = 293.466\n"
          ],
          "name": "stdout"
        }
      ]
    },
    {
      "cell_type": "code",
      "metadata": {
        "id": "b7zfPeGAot3P"
      },
      "source": [
        "import matplotlib\n",
        "matplotlib.use('TkAgg') # it tackles UserWarning Issue\n",
        "import matplotlib.pyplot as plt\n",
        "%matplotlib inline"
      ],
      "execution_count": 9,
      "outputs": []
    },
    {
      "cell_type": "markdown",
      "metadata": {
        "id": "YP7RIS9GHTf6"
      },
      "source": [
        "# graph"
      ]
    },
    {
      "cell_type": "code",
      "metadata": {
        "id": "9BxgYKTKN7IK",
        "colab": {
          "base_uri": "https://localhost:8080/",
          "height": 295
        },
        "outputId": "4e841c58-7b72-46ba-fbcb-b8b4d85417d7"
      },
      "source": [
        "\n",
        "average_return_list =[-120]\n",
        "avg = 0\n",
        "for i in range(1,len(return_list)):\n",
        "  avg = sum(return_list[:i])/len(return_list[:i])\n",
        "  average_return_list.append(avg)\n",
        "\n",
        "plt.plot(episode_list, return_list, label= \"episode return\", c='b')\n",
        "plt.plot(episode_list, average_return_list , label= \"average episode return\", c='r')\n",
        "plt.legend(loc = 'lower right')\n",
        "plt.xlabel('Episodes')\n",
        "plt.title('Performance for 35 discrete actions available')\n",
        "plt.show()"
      ],
      "execution_count": 10,
      "outputs": [
        {
          "output_type": "display_data",
          "data": {
            "image/png": "[encoded data removed]",
            "text/plain": [
              "<Figure size 432x288 with 1 Axes>"
            ]
          },
          "metadata": {
            "tags": [],
            "needs_background": "light"
          }
        }
      ]
    },
    {
      "cell_type": "markdown",
      "metadata": {
        "id": "Ugz3cAgyPZa3"
      },
      "source": [
        "# Display\n"
      ]
    },
    {
      "cell_type": "code",
      "metadata": {
        "colab": {
          "base_uri": "https://localhost:8080/",
          "height": 261
        },
        "id": "dgv_dtH9tldm",
        "outputId": "127cb27f-1791-42f8-f9ea-4af4302cbb35"
      },
      "source": [
        "def display_video(frames, filename='temp.mp4'):\n",
        "  \"\"\"Save and display video.\"\"\"\n",
        "  # Write video\n",
        "  with imageio.get_writer(filename, fps=60) as video:\n",
        "    for frame in frames:\n",
        "      video.append_data(frame)\n",
        "  # Read video and display the video\n",
        "  video = open(filename, 'rb').read()\n",
        "  b64_video = base64.b64encode(video)\n",
        "  video_tag = ('<video  width=\"320\" height=\"240\" controls alt=\"test\" '\n",
        "               'src=\"data:video/mp4;base64,{0}\">').format(b64_video.decode())\n",
        "  return IPython.display.HTML(video_tag)\n",
        "  \n",
        "timestep = environment.reset()\n",
        "frames = [render(environment)]\n",
        "\n",
        "while not timestep.last():\n",
        "  # Simple environment loop.\n",
        "  action = agent.select_action(timestep.observation)\n",
        "  timestep = environment.step(action)\n",
        "\n",
        "  # Render the scene and add it to the frame stack.\n",
        "  frames.append(render(environment))\n",
        "\n",
        "# Save and display a video of the behaviour.\n",
        "display_video(np.array(frames))\n",
        "\n"
      ],
      "execution_count": 11,
      "outputs": [
        {
          "output_type": "execute_result",
          "data": {
            "text/html": [
              "<video  width=\"320\" height=\"240\" controls alt=\"test\" src=\"data:video/mp4;base64,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\">"
            ],
            "text/plain": [
              "<IPython.core.display.HTML object>"
            ]
          },
          "metadata": {
            "tags": []
          },
          "execution_count": 11
        }
      ]
    },
    {
      "cell_type": "code",
      "metadata": {
        "id": "IXVex9N5YfHD"
      },
      "source": [
        ""
      ],
      "execution_count": null,
      "outputs": []
    }
  ]
}